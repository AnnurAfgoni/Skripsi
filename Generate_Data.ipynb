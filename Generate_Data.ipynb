{
 "cells": [
  {
   "cell_type": "code",
   "execution_count": null,
   "id": "eeUREsC3P_gR",
   "metadata": {
    "id": "eeUREsC3P_gR"
   },
   "outputs": [],
   "source": [
    "import numpy as np\n",
    "import numpy.linalg as la\n",
    "import pandas as pd"
   ]
  },
  {
   "cell_type": "markdown",
   "id": "2I096wUWQAnF",
   "metadata": {
    "id": "2I096wUWQAnF"
   },
   "source": [
    "# Parameter"
   ]
  },
  {
   "cell_type": "code",
   "execution_count": null,
   "id": "hqCpSc7jQCav",
   "metadata": {
    "id": "hqCpSc7jQCav"
   },
   "outputs": [],
   "source": [
    "# Jumlah grid\n",
    "NX = 100\n",
    "NY = 100\n",
    "\n",
    "# panjang interval \n",
    "LX = 10\n",
    "LY = 10\n",
    "\n",
    "# Panjang grid\n",
    "dx = LX/NX\n",
    "dy = LY/NY\n",
    "\n",
    "# titik tengah\n",
    "x0 = LX/2\n",
    "y0 = LY/2\n",
    "\n",
    "# data input\n",
    "X = np.linspace(0, LX, NX+1) \n",
    "Y = np.linspace(0, LY, NY+1)\n",
    "\n",
    "x, y = np.meshgrid(X, Y)\n",
    "\n",
    "# potensial OH\n",
    "V = 0.5*(x - x0)**2 + 0.5*(y - y0)**2\n",
    "\n",
    "a = 2/np.sqrt(LX*LY)\n",
    "psx, psy = np.pi/LX, np.pi/LY"
   ]
  },
  {
   "cell_type": "markdown",
   "id": "MN0NYb8XQIuV",
   "metadata": {
    "id": "MN0NYb8XQIuV"
   },
   "source": [
    "# Fungsi Gelombag"
   ]
  },
  {
   "cell_type": "code",
   "execution_count": null,
   "id": "Qe0qGWzAQGjA",
   "metadata": {
    "id": "Qe0qGWzAQGjA"
   },
   "outputs": [],
   "source": [
    "def psi(m, n):\n",
    "    \"\"\"\n",
    "        LX = batas sumbu x\n",
    "        LY = batas sumbu y\n",
    "        m = indeks sumbu x\n",
    "        n = indeks sumbu y\n",
    "    \"\"\"\n",
    "    # fungsi gelombang\n",
    "    psi = a * np.sin(m*psx*x) * np.sin(n*psy*y)\n",
    "    \n",
    "    return psi"
   ]
  },
  {
   "cell_type": "code",
   "execution_count": null,
   "id": "1s4_7zJNQOg4",
   "metadata": {
    "id": "1s4_7zJNQOg4"
   },
   "outputs": [],
   "source": [
    "def d2psi(m, n):\n",
    "    \n",
    "    psix = -0.5 * -(m*psx)**2 * a * np.sin(m*psx*x) * np.sin(n*psy*y)\n",
    "        \n",
    "    psiy = -0.5 * -(n*psy)**2 * a * np.sin(m*psx*x) * np.sin(n*psy*y)\n",
    "    \n",
    "    return psix, psiy"
   ]
  },
  {
   "cell_type": "markdown",
   "id": "GS8vWqc-QSyT",
   "metadata": {
    "id": "GS8vWqc-QSyT"
   },
   "source": [
    "# Index"
   ]
  },
  {
   "cell_type": "code",
   "execution_count": null,
   "id": "r9S3mz_gQUhN",
   "metadata": {
    "id": "r9S3mz_gQUhN"
   },
   "outputs": [],
   "source": [
    "ind = np.zeros([100, 2], dtype=\"int32\")\n",
    "i = 0\n",
    "for p in range(1, 10+1):\n",
    "    for q in range(1, 10+1):\n",
    "        ind[i, 0] = p\n",
    "        ind[i, 1] = q\n",
    "        i += 1"
   ]
  },
  {
   "cell_type": "markdown",
   "id": "A1UuO-e6QX6I",
   "metadata": {
    "id": "A1UuO-e6QX6I"
   },
   "source": [
    "# Energi Kinetik"
   ]
  },
  {
   "cell_type": "code",
   "execution_count": null,
   "id": "X2-IH2bsQd9n",
   "metadata": {
    "id": "X2-IH2bsQd9n"
   },
   "outputs": [],
   "source": [
    "ekinetik = np.zeros([NX, NY])\n",
    "\n",
    "for ii in range(NX):\n",
    "    m = ind[ii, 0]\n",
    "    n = ind[ii, 1]\n",
    "    \n",
    "    psi_kiri = psi(m, n)\n",
    "    \n",
    "    for jj in range(NY):\n",
    "        p = ind[jj, 0]\n",
    "        q = ind[jj, 1]\n",
    "        \n",
    "        element = 0.\n",
    "        psi_kanan = psi(p, q)\n",
    "        d2psix, d2psiy = d2psi(p, q)\n",
    "\n",
    "        for i in range(1, NX):\n",
    "            for j in range(1, NY):\n",
    "\n",
    "                element += psi_kiri[i,j]*(d2psix[i,j] + d2psiy[i,j])\n",
    "\n",
    "        element *= dx*dy\n",
    "        ekinetik[ii, jj] = element"
   ]
  },
  {
   "cell_type": "markdown",
   "id": "JjFFQIASQmlH",
   "metadata": {
    "id": "JjFFQIASQmlH"
   },
   "source": [
    "# Energi Kinetik + Potensial"
   ]
  },
  {
   "cell_type": "code",
   "execution_count": null,
   "id": "dlC8zuPfQqmI",
   "metadata": {
    "id": "dlC8zuPfQqmI"
   },
   "outputs": [],
   "source": [
    "# tempat menyimpan nilai\n",
    "coef_fourier = np.array([])\n",
    "coef_ekspansi = np.array([])\n",
    "ground_state = np.array([])\n",
    "\n",
    "k = 0\n",
    "jumlah_data = 4\n",
    "\n",
    "while(k < jumlah_data):\n",
    "    \n",
    "    # jumlah koefisien fourier baris x kolom\n",
    "    baris = 5\n",
    "    kolom = 5\n",
    "\n",
    "    cnm = np.zeros([baris, kolom])\n",
    "\n",
    "    # nilai koefisien fourier\n",
    "    # bilangan random \n",
    "    for i in range(baris):\n",
    "        for j in range(kolom):\n",
    "            cnm[i, j] = np.random.uniform(-1, 1)\n",
    "\n",
    "    # potensial random\n",
    "    V = 0.\n",
    "    for m in range(baris):\n",
    "        for n in range(kolom):\n",
    "            V += cnm[m,n] * np.sin((m+1)*np.pi*x/LX) * np.sin((n+1)*np.pi*y/LY)\n",
    "\n",
    "    # supaya nilai potensial positif\n",
    "    V = V - V.min()\n",
    "\n",
    "    # tempat menyimpan nilai\n",
    "    rep_matriks = np.zeros([NX, NY])\n",
    "    \n",
    "    for ii in range(NX):\n",
    "        m = ind[ii, 0]\n",
    "        n = ind[ii, 1]\n",
    "\n",
    "        psi_kiri = psi(m, n)\n",
    "\n",
    "        for jj in range(NY):\n",
    "            p = ind[jj, 0]\n",
    "            q = ind[jj, 1]\n",
    "\n",
    "            element = 0.\n",
    "            psi_kanan = psi(p, q)\n",
    "\n",
    "            for i in range(1, NX):\n",
    "                for j in range(1, NY):\n",
    "\n",
    "                    element += psi_kiri[i,j]*V[i,j]*psi_kanan[i,j]\n",
    "\n",
    "            element *= dx*dy\n",
    "            rep_matriks[ii, jj] += ekinetik[ii, jj] + element\n",
    "            \n",
    "    # menghitung nilai eigen\n",
    "    w, v = la.eig(rep_matriks)\n",
    "    \n",
    "    # ground state energi\n",
    "    gs = np.min(w)\n",
    "    igs = np.argmin(w)\n",
    "    \n",
    "    # koefisien ekspansi ground state\n",
    "    cn = v[:, igs]\n",
    "    \n",
    "    # flatten koefisien fourier\n",
    "    cnm = cnm.flatten()\n",
    "    \n",
    "    # simpan nilai \n",
    "    coef_fourier = np.append(coef_fourier, cnm)\n",
    "    coef_ekspansi = np.append(coef_ekspansi, cn)\n",
    "    ground_state = np.append(ground_state, gs)\n",
    "    \n",
    "    k += 1"
   ]
  },
  {
   "cell_type": "code",
   "execution_count": null,
   "id": "XAhWW1-JQz1b",
   "metadata": {
    "id": "XAhWW1-JQz1b"
   },
   "outputs": [],
   "source": [
    "# 1 baris 1 data\n",
    "\n",
    "coef_fourier2 = coef_fourier.reshape(jumlah_data, baris*kolom)\n",
    "coef_ekspansi2 = coef_ekspansi.reshape(jumlah_data, NX)\n",
    "ground_state2 = ground_state.reshape(jumlah_data, 1)"
   ]
  },
  {
   "cell_type": "markdown",
   "id": "nSl2E6jNQ01Q",
   "metadata": {
    "id": "nSl2E6jNQ01Q"
   },
   "source": [
    "# Simpan Nilai"
   ]
  },
  {
   "cell_type": "code",
   "execution_count": null,
   "id": "ba64b14f",
   "metadata": {
    "id": "ba64b14f"
   },
   "outputs": [],
   "source": [
    "# simpan nilai\n",
    "Li = []\n",
    "for i in range(25):\n",
    "    a = \"c\" + str(i+1)\n",
    "    Li.append(a)\n",
    "\n",
    "# ekspor data koefisien\n",
    "df_1 = pd.DataFrame(data = coef_fourier2, columns = Li)\n",
    "df_1.to_csv(\"/content/drive/MyDrive/Data_Colab/coef_fourier.csv\", index = False, header = True)"
   ]
  },
  {
   "cell_type": "code",
   "execution_count": null,
   "id": "bkAXGxSqAdPI",
   "metadata": {
    "id": "bkAXGxSqAdPI"
   },
   "outputs": [],
   "source": [
    "# simpan nilai\n",
    "Li = []\n",
    "for i in range(100):\n",
    "    a = \"c\" + str(i+1)\n",
    "    Li.append(a)\n",
    "\n",
    "# ekspor data koefisien\n",
    "df_2 = pd.DataFrame(data = coef_ekspansi2, columns = Li)\n",
    "df_2.to_csv(\"/content/drive/MyDrive/Data_Colab/coef_ekspansi.csv\", index = False, header = True)"
   ]
  },
  {
   "cell_type": "code",
   "execution_count": null,
   "id": "66615176",
   "metadata": {
    "id": "66615176"
   },
   "outputs": [],
   "source": [
    "# ekspor data koefisien\n",
    "df_2 = pd.DataFrame(data = ground_state, columns = ['Energi'])\n",
    "df_2.to_csv(\"/content/drive/MyDrive/Data_Colab/ground_state.csv\", index = False, header = True)"
   ]
  }
 ],
 "metadata": {
  "accelerator": "GPU",
  "colab": {
   "name": "Generate Data.ipynb",
   "provenance": []
  },
  "kernelspec": {
   "display_name": "Python 3 (ipykernel)",
   "language": "python",
   "name": "python3"
  },
  "language_info": {
   "codemirror_mode": {
    "name": "ipython",
    "version": 3
   },
   "file_extension": ".py",
   "mimetype": "text/x-python",
   "name": "python",
   "nbconvert_exporter": "python",
   "pygments_lexer": "ipython3",
   "version": "3.9.7"
  }
 },
 "nbformat": 4,
 "nbformat_minor": 5
}
